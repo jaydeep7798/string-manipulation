{
 "cells": [
  {
   "cell_type": "code",
   "execution_count": 3,
   "id": "95a516bc",
   "metadata": {},
   "outputs": [],
   "source": [
    "s = \"Chemical engineering is a certain type of engineering which deals with the study of operation and design of chemical plants as well as methods of improving production. Chemical engineers develop economical commercial processes to convert raw material into useful products. Chemical engineering uses principles of chemistry, physics, mathematics, biology, and economics to efficiently use, produce, design, transport and transform energy and materials. The work of chemical engineers can range from the utilization of nanotechnology and nanomaterial in the laboratory to large-scale industrial processes that convert chemicals, raw materials, living cells, microorganisms, and energy into useful forms and products. Chemical engineers are involved in many aspects of plant design and operation, including safety and hazard assessments, process design and analysis, modeling, control engineering, chemical reaction engineering, nuclear engineering, biological engineering, construction specification, and operating instructions\""
   ]
  },
  {
   "cell_type": "code",
   "execution_count": 4,
   "id": "3df82b28",
   "metadata": {},
   "outputs": [
    {
     "data": {
      "text/plain": [
       "str"
      ]
     },
     "execution_count": 4,
     "metadata": {},
     "output_type": "execute_result"
    }
   ],
   "source": [
    " type(s)"
   ]
  },
  {
   "cell_type": "code",
   "execution_count": 9,
   "id": "81b95277",
   "metadata": {},
   "outputs": [
    {
     "data": {
      "text/plain": [
       "'Cmaeieniaea poeienwcdlwhhsdoori degocmapn  lamhsfmonpdtnCmaeie voeniloei ossooe warln elrusCmaeienus'"
      ]
     },
     "execution_count": 9,
     "metadata": {},
     "output_type": "execute_result"
    }
   ],
   "source": [
    "s[0:300:3]"
   ]
  },
  {
   "cell_type": "code",
   "execution_count": 10,
   "id": "e3be7d90",
   "metadata": {},
   "outputs": [
    {
     "data": {
      "text/plain": [
       "'rp sesu gnireenigne lacimehC .stcudorp lufesu otni lairetam war trevnoc ot sessecorp laicremmoc lacimonoce poleved sreenigne lacimehC .noitcudorp gnivorpmi fo sdohtem sa llew sa stnalp lacimehc fo ngised dna noitarepo fo yduts eht htiw slaed hcihw gnireenigne fo epyt niatrec a si gnireenigne lacimeh'"
      ]
     },
     "execution_count": 10,
     "metadata": {},
     "output_type": "execute_result"
    }
   ],
   "source": [
    "s[300:0:-1]"
   ]
  },
  {
   "cell_type": "code",
   "execution_count": 11,
   "id": "9a00f36f",
   "metadata": {},
   "outputs": [
    {
     "data": {
      "text/plain": [
       "'Chemical engineering is a certain type of engineering which deals with the study of operation and design of chemical plants as well as methods of improving production. Chemical engineers develop economical commercial processes to convert raw material into useful products. Chemical engineering uses principles of chemistry, physics, mathematics, biology, and economics to efficiently use, produce, design, transport and transform energy and materials. The work of chemical engineers can range from the utilization of nanotechnology and nanomaterial in the laboratory to large-scale industrial processes that convert chemicals, raw materials, living cells, microorganisms, and energy into useful forms and products. Chemical engineers are involved in many aspects of plant design and operation, including safety and hazard assessments, process design and analysis, modeling, control engineering, chemical reaction engineering, nuclear engineering, biological engineering, construction specification, and operating instructions'"
      ]
     },
     "execution_count": 11,
     "metadata": {},
     "output_type": "execute_result"
    }
   ],
   "source": [
    "s"
   ]
  },
  {
   "cell_type": "code",
   "execution_count": 13,
   "id": "53a8ad91",
   "metadata": {},
   "outputs": [
    {
     "data": {
      "text/plain": [
       "'CHEMICAL ENGINEERING IS A CERTAIN TYPE OF ENGINEERING WHICH DEALS WITH THE STUDY OF OPERATION AND DESIGN OF CHEMICAL PLANTS AS WELL AS METHODS OF IMPROVING PRODUCTION. CHEMICAL ENGINEERS DEVELOP ECONOMICAL COMMERCIAL PROCESSES TO CONVERT RAW MATERIAL INTO USEFUL PRODUCTS. CHEMICAL ENGINEERING USES PRINCIPLES OF CHEMISTRY, PHYSICS, MATHEMATICS, BIOLOGY, AND ECONOMICS TO EFFICIENTLY USE, PRODUCE, DESIGN, TRANSPORT AND TRANSFORM ENERGY AND MATERIALS. THE WORK OF CHEMICAL ENGINEERS CAN RANGE FROM THE UTILIZATION OF NANOTECHNOLOGY AND NANOMATERIAL IN THE LABORATORY TO LARGE-SCALE INDUSTRIAL PROCESSES THAT CONVERT CHEMICALS, RAW MATERIALS, LIVING CELLS, MICROORGANISMS, AND ENERGY INTO USEFUL FORMS AND PRODUCTS. CHEMICAL ENGINEERS ARE INVOLVED IN MANY ASPECTS OF PLANT DESIGN AND OPERATION, INCLUDING SAFETY AND HAZARD ASSESSMENTS, PROCESS DESIGN AND ANALYSIS, MODELING, CONTROL ENGINEERING, CHEMICAL REACTION ENGINEERING, NUCLEAR ENGINEERING, BIOLOGICAL ENGINEERING, CONSTRUCTION SPECIFICATION, AND OPERATING INSTRUCTIONS'"
      ]
     },
     "execution_count": 13,
     "metadata": {},
     "output_type": "execute_result"
    }
   ],
   "source": [
    "s.upper()"
   ]
  },
  {
   "cell_type": "code",
   "execution_count": 14,
   "id": "fdf19b99",
   "metadata": {},
   "outputs": [
    {
     "data": {
      "text/plain": [
       "['Chemical',\n",
       " 'engineering',\n",
       " 'is',\n",
       " 'a',\n",
       " 'certain',\n",
       " 'type',\n",
       " 'of',\n",
       " 'engineering',\n",
       " 'which',\n",
       " 'deals',\n",
       " 'with',\n",
       " 'the',\n",
       " 'study',\n",
       " 'of',\n",
       " 'operation',\n",
       " 'and',\n",
       " 'design',\n",
       " 'of',\n",
       " 'chemical',\n",
       " 'plants',\n",
       " 'as',\n",
       " 'well',\n",
       " 'as',\n",
       " 'methods',\n",
       " 'of',\n",
       " 'improving',\n",
       " 'production.',\n",
       " 'Chemical',\n",
       " 'engineers',\n",
       " 'develop',\n",
       " 'economical',\n",
       " 'commercial',\n",
       " 'processes',\n",
       " 'to',\n",
       " 'convert',\n",
       " 'raw',\n",
       " 'material',\n",
       " 'into',\n",
       " 'useful',\n",
       " 'products.',\n",
       " 'Chemical',\n",
       " 'engineering',\n",
       " 'uses',\n",
       " 'principles',\n",
       " 'of',\n",
       " 'chemistry,',\n",
       " 'physics,',\n",
       " 'mathematics,',\n",
       " 'biology,',\n",
       " 'and',\n",
       " 'economics',\n",
       " 'to',\n",
       " 'efficiently',\n",
       " 'use,',\n",
       " 'produce,',\n",
       " 'design,',\n",
       " 'transport',\n",
       " 'and',\n",
       " 'transform',\n",
       " 'energy',\n",
       " 'and',\n",
       " 'materials.',\n",
       " 'The',\n",
       " 'work',\n",
       " 'of',\n",
       " 'chemical',\n",
       " 'engineers',\n",
       " 'can',\n",
       " 'range',\n",
       " 'from',\n",
       " 'the',\n",
       " 'utilization',\n",
       " 'of',\n",
       " 'nanotechnology',\n",
       " 'and',\n",
       " 'nanomaterial',\n",
       " 'in',\n",
       " 'the',\n",
       " 'laboratory',\n",
       " 'to',\n",
       " 'large-scale',\n",
       " 'industrial',\n",
       " 'processes',\n",
       " 'that',\n",
       " 'convert',\n",
       " 'chemicals,',\n",
       " 'raw',\n",
       " 'materials,',\n",
       " 'living',\n",
       " 'cells,',\n",
       " 'microorganisms,',\n",
       " 'and',\n",
       " 'energy',\n",
       " 'into',\n",
       " 'useful',\n",
       " 'forms',\n",
       " 'and',\n",
       " 'products.',\n",
       " 'Chemical',\n",
       " 'engineers',\n",
       " 'are',\n",
       " 'involved',\n",
       " 'in',\n",
       " 'many',\n",
       " 'aspects',\n",
       " 'of',\n",
       " 'plant',\n",
       " 'design',\n",
       " 'and',\n",
       " 'operation,',\n",
       " 'including',\n",
       " 'safety',\n",
       " 'and',\n",
       " 'hazard',\n",
       " 'assessments,',\n",
       " 'process',\n",
       " 'design',\n",
       " 'and',\n",
       " 'analysis,',\n",
       " 'modeling,',\n",
       " 'control',\n",
       " 'engineering,',\n",
       " 'chemical',\n",
       " 'reaction',\n",
       " 'engineering,',\n",
       " 'nuclear',\n",
       " 'engineering,',\n",
       " 'biological',\n",
       " 'engineering,',\n",
       " 'construction',\n",
       " 'specification,',\n",
       " 'and',\n",
       " 'operating',\n",
       " 'instructions']"
      ]
     },
     "execution_count": 14,
     "metadata": {},
     "output_type": "execute_result"
    }
   ],
   "source": [
    "s.split(' ')"
   ]
  },
  {
   "cell_type": "code",
   "execution_count": 12,
   "id": "4f05ac50",
   "metadata": {},
   "outputs": [],
   "source": [
    "s = \"Chemical engineering is a certain type of engineering which deals with the study of operation and design of chemical plants as well as methods of improving production. Chemical engineers develop economical commercial processes to convert raw material into useful products. Chemical engineering uses principles of chemistry, physics, mathematics, biology, and economics to efficiently use, produce, design, transport and transform energy and materials. The work of chemical engineers can range from the utilization of nanotechnology and nanomaterial in the laboratory to large-scale industrial processes that convert chemicals, raw materials, living cells, microorganisms, and energy into useful forms and products. Chemical engineers are involved in many aspects of plant design and operation, including safety and hazard assessments, process design and analysis, modeling, control engineering, chemical reaction engineering, nuclear engineering, biological engineering, construction specification, and operating instructions\""
   ]
  },
  {
   "cell_type": "code",
   "execution_count": 13,
   "id": "7df873c9",
   "metadata": {},
   "outputs": [
    {
     "data": {
      "text/plain": [
       "'chemical engineering is a certain type of engineering which deals with the study of operation and design of chemical plants as well as methods of improving production. chemical engineers develop economical commercial processes to convert raw material into useful products. chemical engineering uses principles of chemistry, physics, mathematics, biology, and economics to efficiently use, produce, design, transport and transform energy and materials. the work of chemical engineers can range from the utilization of nanotechnology and nanomaterial in the laboratory to large-scale industrial processes that convert chemicals, raw materials, living cells, microorganisms, and energy into useful forms and products. chemical engineers are involved in many aspects of plant design and operation, including safety and hazard assessments, process design and analysis, modeling, control engineering, chemical reaction engineering, nuclear engineering, biological engineering, construction specification, and operating instructions'"
      ]
     },
     "execution_count": 13,
     "metadata": {},
     "output_type": "execute_result"
    }
   ],
   "source": [
    "s.lower()"
   ]
  },
  {
   "cell_type": "code",
   "execution_count": 14,
   "id": "e5080777",
   "metadata": {},
   "outputs": [
    {
     "data": {
      "text/plain": [
       "'Chemical engineering is a certain type of engineering which deals with the study of operation and design of chemical plants as well as methods of improving production. chemical engineers develop economical commercial processes to convert raw material into useful products. chemical engineering uses principles of chemistry, physics, mathematics, biology, and economics to efficiently use, produce, design, transport and transform energy and materials. the work of chemical engineers can range from the utilization of nanotechnology and nanomaterial in the laboratory to large-scale industrial processes that convert chemicals, raw materials, living cells, microorganisms, and energy into useful forms and products. chemical engineers are involved in many aspects of plant design and operation, including safety and hazard assessments, process design and analysis, modeling, control engineering, chemical reaction engineering, nuclear engineering, biological engineering, construction specification, and operating instructions'"
      ]
     },
     "execution_count": 14,
     "metadata": {},
     "output_type": "execute_result"
    }
   ],
   "source": [
    "s.capitalize()"
   ]
  },
  {
   "cell_type": "code",
   "execution_count": 15,
   "id": "799c61cd",
   "metadata": {},
   "outputs": [],
   "source": [
    "s= \"jaydeep\""
   ]
  },
  {
   "cell_type": "code",
   "execution_count": 17,
   "id": "519b7271",
   "metadata": {},
   "outputs": [
    {
     "data": {
      "text/plain": [
       "True"
      ]
     },
     "execution_count": 17,
     "metadata": {},
     "output_type": "execute_result"
    }
   ],
   "source": [
    "s.isalpha()"
   ]
  },
  {
   "cell_type": "code",
   "execution_count": 18,
   "id": "4d2270cf",
   "metadata": {},
   "outputs": [],
   "source": [
    "s1 = \"7798jaydeep\""
   ]
  },
  {
   "cell_type": "code",
   "execution_count": 22,
   "id": "47cc6581",
   "metadata": {},
   "outputs": [
    {
     "data": {
      "text/plain": [
       "True"
      ]
     },
     "execution_count": 22,
     "metadata": {},
     "output_type": "execute_result"
    }
   ],
   "source": [
    "s1.isalnum()"
   ]
  },
  {
   "cell_type": "code",
   "execution_count": 21,
   "id": "f4eb62d9",
   "metadata": {},
   "outputs": [],
   "source": [
    "s2 = \"7798jay\""
   ]
  },
  {
   "cell_type": "code",
   "execution_count": 24,
   "id": "e7addc13",
   "metadata": {},
   "outputs": [
    {
     "data": {
      "text/plain": [
       "False"
      ]
     },
     "execution_count": 24,
     "metadata": {},
     "output_type": "execute_result"
    }
   ],
   "source": [
    "s2.isalpha()"
   ]
  },
  {
   "cell_type": "code",
   "execution_count": 26,
   "id": "968bf7ba",
   "metadata": {},
   "outputs": [],
   "source": [
    "s3 =  \"so basically isalnum shows the its alpha or numerical form and is alpha shows about only alphabets \""
   ]
  },
  {
   "cell_type": "code",
   "execution_count": 1,
   "id": "f7a87191",
   "metadata": {},
   "outputs": [],
   "source": [
    "s = \" jaydeep\\tkumar\\t542\""
   ]
  },
  {
   "cell_type": "code",
   "execution_count": 2,
   "id": "099d94c6",
   "metadata": {},
   "outputs": [
    {
     "data": {
      "text/plain": [
       "' jaydeep        kumar   542'"
      ]
     },
     "execution_count": 2,
     "metadata": {},
     "output_type": "execute_result"
    }
   ],
   "source": [
    "s.expandtabs()"
   ]
  },
  {
   "cell_type": "code",
   "execution_count": 3,
   "id": "ef265017",
   "metadata": {},
   "outputs": [],
   "source": [
    "s = '   jaydeep    '"
   ]
  },
  {
   "cell_type": "code",
   "execution_count": 6,
   "id": "1b857a88",
   "metadata": {},
   "outputs": [
    {
     "data": {
      "text/plain": [
       "'jaydeep'"
      ]
     },
     "execution_count": 6,
     "metadata": {},
     "output_type": "execute_result"
    }
   ],
   "source": [
    "s.strip()"
   ]
  },
  {
   "cell_type": "code",
   "execution_count": 9,
   "id": "b2993af5",
   "metadata": {},
   "outputs": [
    {
     "data": {
      "text/plain": [
       "'jaydeep'"
      ]
     },
     "execution_count": 9,
     "metadata": {},
     "output_type": "execute_result"
    }
   ],
   "source": [
    "s"
   ]
  },
  {
   "cell_type": "code",
   "execution_count": 10,
   "id": "fcfcdcc1",
   "metadata": {},
   "outputs": [],
   "source": [
    "s1 = '   jayendra    '"
   ]
  },
  {
   "cell_type": "code",
   "execution_count": 11,
   "id": "5e5fe50b",
   "metadata": {},
   "outputs": [
    {
     "data": {
      "text/plain": [
       "'jayendra'"
      ]
     },
     "execution_count": 11,
     "metadata": {},
     "output_type": "execute_result"
    }
   ],
   "source": [
    "s1.strip()"
   ]
  },
  {
   "cell_type": "code",
   "execution_count": 12,
   "id": "58c0cdfa",
   "metadata": {},
   "outputs": [
    {
     "data": {
      "text/plain": [
       "'jayendra    '"
      ]
     },
     "execution_count": 12,
     "metadata": {},
     "output_type": "execute_result"
    }
   ],
   "source": [
    "s1.lstrip()"
   ]
  },
  {
   "cell_type": "code",
   "execution_count": 13,
   "id": "42c6a340",
   "metadata": {},
   "outputs": [
    {
     "data": {
      "text/plain": [
       "'   jayendra'"
      ]
     },
     "execution_count": 13,
     "metadata": {},
     "output_type": "execute_result"
    }
   ],
   "source": [
    "s1.rstrip()"
   ]
  },
  {
   "cell_type": "code",
   "execution_count": 24,
   "id": "47a6b740",
   "metadata": {},
   "outputs": [],
   "source": [
    "s8 = 'sunny is boy'"
   ]
  },
  {
   "cell_type": "code",
   "execution_count": 25,
   "id": "910d6bc1",
   "metadata": {},
   "outputs": [
    {
     "data": {
      "text/plain": [
       "'sunny is boy'"
      ]
     },
     "execution_count": 25,
     "metadata": {},
     "output_type": "execute_result"
    }
   ],
   "source": [
    "s8"
   ]
  },
  {
   "cell_type": "code",
   "execution_count": 26,
   "id": "dad847d0",
   "metadata": {},
   "outputs": [
    {
     "data": {
      "text/plain": [
       "'sunny was boy'"
      ]
     },
     "execution_count": 26,
     "metadata": {},
     "output_type": "execute_result"
    }
   ],
   "source": [
    "s8.replace('is','was')"
   ]
  },
  {
   "cell_type": "code",
   "execution_count": 27,
   "id": "4da8f81d",
   "metadata": {},
   "outputs": [
    {
     "data": {
      "text/plain": [
       "'In string center the original chara. is same but the padding of some specific chara. in betweeen them'"
      ]
     },
     "execution_count": 27,
     "metadata": {},
     "output_type": "execute_result"
    }
   ],
   "source": [
    "'In string center the original chara. is same but the padding of some specific chara. in betweeen them'"
   ]
  },
  {
   "cell_type": "code",
   "execution_count": 30,
   "id": "cbd28ea2",
   "metadata": {},
   "outputs": [
    {
     "data": {
      "text/plain": [
       "'jaydeep'"
      ]
     },
     "execution_count": 30,
     "metadata": {},
     "output_type": "execute_result"
    }
   ],
   "source": [
    "s"
   ]
  },
  {
   "cell_type": "code",
   "execution_count": 31,
   "id": "ecc01ef6",
   "metadata": {},
   "outputs": [
    {
     "data": {
      "text/plain": [
       "'@@@@@@jaydeep@@@@@@@'"
      ]
     },
     "execution_count": 31,
     "metadata": {},
     "output_type": "execute_result"
    }
   ],
   "source": [
    "s.center(20,'@')"
   ]
  },
  {
   "cell_type": "code",
   "execution_count": 33,
   "id": "c525a9c2",
   "metadata": {},
   "outputs": [
    {
     "data": {
      "text/plain": [
       "'complier is a system software in which the source code i.e readable by humans is converted into the machine code i.e readable by machine 0,1 and interpter is excute the code at the time means line by line not like a complier a whole code'"
      ]
     },
     "execution_count": 33,
     "metadata": {},
     "output_type": "execute_result"
    }
   ],
   "source": [
    "'complier is a system software in which the source code i.e readable by humans is converted into the machine code i.e readable by machine 0,1 and interpter is excute the code at the time means line by line not like a complier a whole code' "
   ]
  },
  {
   "cell_type": "code",
   "execution_count": 34,
   "id": "3a6bb306",
   "metadata": {},
   "outputs": [
    {
     "data": {
      "text/plain": [
       "' python is a complier and interpter launguage first we wrote the programme then its complies and its conveted into the .byc file and after that into machine code for a output now complier , byte code , virtual machine are the part of the interpter '"
      ]
     },
     "execution_count": 34,
     "metadata": {},
     "output_type": "execute_result"
    }
   ],
   "source": [
    "' python is a complier and interpter launguage first we wrote the programme then its complies and its conveted into the .byc file and after that into machine code for a output now complier , byte code , virtual machine are the part of the interpter '"
   ]
  },
  {
   "cell_type": "code",
   "execution_count": 37,
   "id": "a9d016ce",
   "metadata": {},
   "outputs": [
    {
     "data": {
      "text/plain": [
       "'python use fora data analysis,web development,automation,AI,desktop application,games,image processing,opencvand many more '"
      ]
     },
     "execution_count": 37,
     "metadata": {},
     "output_type": "execute_result"
    }
   ],
   "source": [
    "'python use fora data analysis,web development,automation,AI,desktop application,games,image processing,opencvand many more '"
   ]
  },
  {
   "cell_type": "code",
   "execution_count": null,
   "id": "8d0ebfb7",
   "metadata": {},
   "outputs": [],
   "source": []
  }
 ],
 "metadata": {
  "kernelspec": {
   "display_name": "Python 3 (ipykernel)",
   "language": "python",
   "name": "python3"
  },
  "language_info": {
   "codemirror_mode": {
    "name": "ipython",
    "version": 3
   },
   "file_extension": ".py",
   "mimetype": "text/x-python",
   "name": "python",
   "nbconvert_exporter": "python",
   "pygments_lexer": "ipython3",
   "version": "3.9.12"
  }
 },
 "nbformat": 4,
 "nbformat_minor": 5
}
